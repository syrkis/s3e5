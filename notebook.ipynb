{
 "cells": [
  {
   "cell_type": "markdown",
   "metadata": {},
   "source": [
    "# s3e5"
   ]
  },
  {
   "cell_type": "code",
   "execution_count": 9,
   "metadata": {},
   "outputs": [],
   "source": [
    "import pandas as pd\n",
    "from sklearn.model_selection import train_test_split\n",
    "from sklearn.linear_model import LogisticRegression\n",
    "from sklearn.preprocessing import PolynomialFeatures, StandardScaler"
   ]
  },
  {
   "cell_type": "code",
   "execution_count": 13,
   "metadata": {},
   "outputs": [],
   "source": [
    "def save(id_pred_array):\n",
    "    with open('submission.csv', 'w') as f:\n",
    "        f.write('Id,quality\\n')\n",
    "        for id, pred in id_pred_array:\n",
    "            f.write(f'{int(id)},{int(pred)}\\n')\n",
    "\n",
    "\n",
    "def main():\n",
    "    train = pd.read_csv('train.csv', dtype=float)\n",
    "    test = pd.read_csv('test.csv', dtype=float)\n",
    "    ids = test['Id']\n",
    "\n",
    "    scaler = StandardScaler()\n",
    "\n",
    "    train_X = scaler.fit_transform(train.drop('quality', axis=1))\n",
    "    train_y = train['quality']\n",
    "\n",
    "    test = scaler.transform(test)\n",
    "\n",
    "    model = LogisticRegression()\n",
    "    model.fit(train_X, train_y)\n",
    "\n",
    "    return save(list(zip(ids, model.predict(test))))\n",
    "\n",
    "\n",
    "main()"
   ]
  },
  {
   "cell_type": "code",
   "execution_count": 11,
   "metadata": {},
   "outputs": [
    {
     "name": "stdout",
     "output_type": "stream",
     "text": [
      "notebook.ipynb              submission.csv\r\n",
      "playground-series-s3e5.zip  test.csv\r\n",
      "sample_submission.csv       train.csv\r\n"
     ]
    }
   ],
   "source": [
    "!ls"
   ]
  },
  {
   "cell_type": "code",
   "execution_count": null,
   "metadata": {},
   "outputs": [],
   "source": []
  }
 ],
 "metadata": {
  "kernelspec": {
   "display_name": "Python 3 (ipykernel)",
   "language": "python",
   "name": "python3"
  },
  "language_info": {
   "codemirror_mode": {
    "name": "ipython",
    "version": 3
   },
   "file_extension": ".py",
   "mimetype": "text/x-python",
   "name": "python",
   "nbconvert_exporter": "python",
   "pygments_lexer": "ipython3",
   "version": "3.10.5"
  },
  "vscode": {
   "interpreter": {
    "hash": "3f13f3ede4e9aeeeb53706c9353eebc96d4ca89b401e55d2572e9b399666b8ac"
   }
  }
 },
 "nbformat": 4,
 "nbformat_minor": 2
}
